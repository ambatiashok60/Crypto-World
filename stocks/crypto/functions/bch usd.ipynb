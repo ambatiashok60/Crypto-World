{
 "cells": [
  {
   "cell_type": "code",
   "execution_count": 1,
   "metadata": {},
   "outputs": [],
   "source": [
    "import pandas as pd"
   ]
  },
  {
   "cell_type": "code",
   "execution_count": 2,
   "metadata": {},
   "outputs": [],
   "source": [
    "import os"
   ]
  },
  {
   "cell_type": "code",
   "execution_count": 3,
   "metadata": {},
   "outputs": [
    {
     "data": {
      "text/plain": [
       "'/Users/ashokkumar/Documents/Ashok/projects/stocks/crypto'"
      ]
     },
     "execution_count": 3,
     "metadata": {},
     "output_type": "execute_result"
    }
   ],
   "source": [
    "os.path.dirname(os.getcwd())"
   ]
  },
  {
   "cell_type": "code",
   "execution_count": 10,
   "metadata": {},
   "outputs": [],
   "source": [
    "my_dir = os.path.join(os.path.dirname(os.getcwd()), 'data')"
   ]
  },
  {
   "cell_type": "code",
   "execution_count": 7,
   "metadata": {},
   "outputs": [
    {
     "data": {
      "text/plain": [
       "'/Users/ashokkumar/Documents/Ashok/projects/stocks/crypto/BCH-USD.csv'"
      ]
     },
     "execution_count": 7,
     "metadata": {},
     "output_type": "execute_result"
    }
   ],
   "source": [
    "os.path.join(os.path.dirname(os.getcwd()), 'BCH-USD.csv')"
   ]
  },
  {
   "cell_type": "code",
   "execution_count": 13,
   "metadata": {},
   "outputs": [],
   "source": [
    "df = pd.read_csv(os.path.join(my_dir, 'BCH-USD.csv'))"
   ]
  },
  {
   "cell_type": "code",
   "execution_count": 14,
   "metadata": {},
   "outputs": [
    {
     "data": {
      "text/html": [
       "<div>\n",
       "<style scoped>\n",
       "    .dataframe tbody tr th:only-of-type {\n",
       "        vertical-align: middle;\n",
       "    }\n",
       "\n",
       "    .dataframe tbody tr th {\n",
       "        vertical-align: top;\n",
       "    }\n",
       "\n",
       "    .dataframe thead th {\n",
       "        text-align: right;\n",
       "    }\n",
       "</style>\n",
       "<table border=\"1\" class=\"dataframe\">\n",
       "  <thead>\n",
       "    <tr style=\"text-align: right;\">\n",
       "      <th></th>\n",
       "      <th>Date</th>\n",
       "      <th>Open</th>\n",
       "      <th>High</th>\n",
       "      <th>Low</th>\n",
       "      <th>Close</th>\n",
       "      <th>Adj Close</th>\n",
       "      <th>Volume</th>\n",
       "    </tr>\n",
       "  </thead>\n",
       "  <tbody>\n",
       "    <tr>\n",
       "      <th>0</th>\n",
       "      <td>2018-02-15</td>\n",
       "      <td>1358.650024</td>\n",
       "      <td>1400.709961</td>\n",
       "      <td>1330.180054</td>\n",
       "      <td>1375.810059</td>\n",
       "      <td>1375.810059</td>\n",
       "      <td>502454016</td>\n",
       "    </tr>\n",
       "    <tr>\n",
       "      <th>1</th>\n",
       "      <td>2018-02-16</td>\n",
       "      <td>1373.160034</td>\n",
       "      <td>1558.660034</td>\n",
       "      <td>1369.680054</td>\n",
       "      <td>1552.199951</td>\n",
       "      <td>1552.199951</td>\n",
       "      <td>961009984</td>\n",
       "    </tr>\n",
       "    <tr>\n",
       "      <th>2</th>\n",
       "      <td>2018-02-17</td>\n",
       "      <td>1548.479980</td>\n",
       "      <td>1568.640015</td>\n",
       "      <td>1517.140015</td>\n",
       "      <td>1551.390015</td>\n",
       "      <td>1551.390015</td>\n",
       "      <td>641718976</td>\n",
       "    </tr>\n",
       "    <tr>\n",
       "      <th>3</th>\n",
       "      <td>2018-02-18</td>\n",
       "      <td>1552.099976</td>\n",
       "      <td>1641.400024</td>\n",
       "      <td>1428.489990</td>\n",
       "      <td>1487.459961</td>\n",
       "      <td>1487.459961</td>\n",
       "      <td>907873024</td>\n",
       "    </tr>\n",
       "    <tr>\n",
       "      <th>4</th>\n",
       "      <td>2018-02-19</td>\n",
       "      <td>1483.339966</td>\n",
       "      <td>1553.810059</td>\n",
       "      <td>1483.339966</td>\n",
       "      <td>1534.770020</td>\n",
       "      <td>1534.770020</td>\n",
       "      <td>578905984</td>\n",
       "    </tr>\n",
       "  </tbody>\n",
       "</table>\n",
       "</div>"
      ],
      "text/plain": [
       "         Date         Open         High          Low        Close  \\\n",
       "0  2018-02-15  1358.650024  1400.709961  1330.180054  1375.810059   \n",
       "1  2018-02-16  1373.160034  1558.660034  1369.680054  1552.199951   \n",
       "2  2018-02-17  1548.479980  1568.640015  1517.140015  1551.390015   \n",
       "3  2018-02-18  1552.099976  1641.400024  1428.489990  1487.459961   \n",
       "4  2018-02-19  1483.339966  1553.810059  1483.339966  1534.770020   \n",
       "\n",
       "     Adj Close     Volume  \n",
       "0  1375.810059  502454016  \n",
       "1  1552.199951  961009984  \n",
       "2  1551.390015  641718976  \n",
       "3  1487.459961  907873024  \n",
       "4  1534.770020  578905984  "
      ]
     },
     "execution_count": 14,
     "metadata": {},
     "output_type": "execute_result"
    }
   ],
   "source": [
    "df.head()"
   ]
  },
  {
   "cell_type": "code",
   "execution_count": null,
   "metadata": {},
   "outputs": [],
   "source": []
  }
 ],
 "metadata": {
  "kernelspec": {
   "display_name": "Python 3",
   "language": "python",
   "name": "python3"
  },
  "language_info": {
   "codemirror_mode": {
    "name": "ipython",
    "version": 3
   },
   "file_extension": ".py",
   "mimetype": "text/x-python",
   "name": "python",
   "nbconvert_exporter": "python",
   "pygments_lexer": "ipython3",
   "version": "3.7.6"
  }
 },
 "nbformat": 4,
 "nbformat_minor": 4
}
